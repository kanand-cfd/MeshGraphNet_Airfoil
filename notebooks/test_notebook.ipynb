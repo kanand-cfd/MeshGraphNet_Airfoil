{
 "cells": [
  {
   "metadata": {
    "ExecuteTime": {
     "end_time": "2025-07-29T08:06:23.418686Z",
     "start_time": "2025-07-29T08:06:23.414340Z"
    }
   },
   "cell_type": "code",
   "source": [
    "import numpy as np\n",
    "from scipy.spatial import Delaunay\n",
    "from preprocessing.graph_from_snapshot import build_graph_from_snapshot"
   ],
   "id": "9b8677ed78b5c8b5",
   "outputs": [],
   "execution_count": 5
  },
  {
   "metadata": {
    "ExecuteTime": {
     "end_time": "2025-07-29T08:05:25.933616Z",
     "start_time": "2025-07-29T08:05:25.772908Z"
    }
   },
   "cell_type": "code",
   "source": [
    "# Load static mesh #\n",
    "mesh_path = \"/Users/karan94/Documents/MeshGraphNets_Airfoil/data/Airfoil\"\n",
    "grid = np.load(f\"{mesh_path}/test_grid.npy\")\n",
    "cells = np.load(f\"{mesh_path}/test_cells.npy\")\n",
    "\n",
    "# Load dynamic data\n",
    "data = np.load(f\"{mesh_path}/test_data.npy\")\n",
    "\n",
    "print(f\"Grid shape: {grid.shape}, Cells shape: {cells.shape}, Data shape: {data.shape}\")"
   ],
   "id": "6648d5d94088df1",
   "outputs": [
    {
     "name": "stdout",
     "output_type": "stream",
     "text": [
      "Grid shape: (100, 5233, 31, 2), Cells shape: (100, 10216, 31, 3), Data shape: (100, 5233, 31, 4)\n"
     ]
    }
   ],
   "execution_count": 4
  },
  {
   "metadata": {
    "ExecuteTime": {
     "end_time": "2025-07-29T08:09:43.318169Z",
     "start_time": "2025-07-29T08:09:43.313116Z"
    }
   },
   "cell_type": "code",
   "source": [
    "frame = 0\n",
    "airfoil_id = 0\n",
    "features = data[airfoil_id, :, frame, :3]   #\n",
    "target = data[airfoil_id, :, frame + 1, :3] # next frame\n",
    "node_pos = grid[airfoil_id, :, frame, :]\n",
    "triangles = cells[airfoil_id, :, frame, :]\n",
    "node_type = np.zeros((features.shape[0],)) # dummy"
   ],
   "id": "e293a45b189ce749",
   "outputs": [],
   "execution_count": 6
  },
  {
   "metadata": {
    "ExecuteTime": {
     "end_time": "2025-07-29T08:10:37.301899Z",
     "start_time": "2025-07-29T08:10:37.269653Z"
    }
   },
   "cell_type": "code",
   "source": "graph = build_graph_from_snapshot(node_pos, triangles, features, target, node_type)",
   "id": "2adf4dccb756e6b",
   "outputs": [],
   "execution_count": 7
  },
  {
   "metadata": {
    "ExecuteTime": {
     "end_time": "2025-07-29T08:10:40.875926Z",
     "start_time": "2025-07-29T08:10:40.867565Z"
    }
   },
   "cell_type": "code",
   "source": "graph",
   "id": "787f35058050e932",
   "outputs": [
    {
     "data": {
      "text/plain": [
       "{'nodes': array([[ 1.0473521e+02,  1.3460818e+01,  1.2269930e+00,  9.9975002e-01,\n",
       "         -3.6328966e-05,  0.0000000e+00],\n",
       "        [ 1.1291812e+02,  1.6061655e+01,  1.2110808e+00,  9.9900001e-01,\n",
       "         -1.4525375e-04,  0.0000000e+00],\n",
       "        [ 1.1768428e+02,  1.6921492e+01,  1.2060925e+00,  9.9776000e-01,\n",
       "         -3.2511118e-04,  0.0000000e+00],\n",
       "        ...,\n",
       "        [ 1.3663853e+02,  2.9403954e+00,  1.2249781e+00,  1.7549320e+01,\n",
       "          3.0887530e+00,  0.0000000e+00],\n",
       "        [ 1.3663853e+02,  2.9403954e+00,  1.2249781e+00,  1.1416820e+01,\n",
       "          1.4055120e+01,  0.0000000e+00],\n",
       "        [ 1.3663853e+02,  2.9403954e+00,  1.2249781e+00,  1.7193159e+01,\n",
       "          7.9130592e+00,  0.0000000e+00]], shape=(5233, 6), dtype=float32),\n",
       " 'edges': array([[-0.00078404, -0.00098731],\n",
       "        [ 0.58022213, -0.05370498],\n",
       "        [-0.03317043,  0.00348765],\n",
       "        ...,\n",
       "        [ 0.01863009, -0.02238384],\n",
       "        [-0.00892198,  0.00269331],\n",
       "        [-0.01995015, -0.01152593]], shape=(30898, 2), dtype=float32),\n",
       " 'senders': array([ 439, 4684, 1597, ..., 1377, 1891, 1720],\n",
       "       shape=(30898,), dtype=int32),\n",
       " 'receivers': array([ 196, 4617, 1650, ..., 1526, 1747, 1865],\n",
       "       shape=(30898,), dtype=int32),\n",
       " 'globals': array([0.], dtype=float32),\n",
       " 'target': array([[ 96.78801  ,  12.434692 ,   1.266788 ],\n",
       "        [106.22694  ,  15.080739 ,   1.2538043],\n",
       "        [111.62963  ,  16.049889 ,   1.2500404],\n",
       "        ...,\n",
       "        [136.63853  ,   2.9403954,   1.2249781],\n",
       "        [136.63853  ,   2.9403954,   1.2249781],\n",
       "        [136.63853  ,   2.9403954,   1.2249781]],\n",
       "       shape=(5233, 3), dtype=float32)}"
      ]
     },
     "execution_count": 8,
     "metadata": {},
     "output_type": "execute_result"
    }
   ],
   "execution_count": 8
  },
  {
   "metadata": {},
   "cell_type": "code",
   "outputs": [],
   "execution_count": null,
   "source": "",
   "id": "8c98dd3340eddb25"
  }
 ],
 "metadata": {
  "kernelspec": {
   "display_name": "Python 3",
   "language": "python",
   "name": "python3"
  },
  "language_info": {
   "codemirror_mode": {
    "name": "ipython",
    "version": 2
   },
   "file_extension": ".py",
   "mimetype": "text/x-python",
   "name": "python",
   "nbconvert_exporter": "python",
   "pygments_lexer": "ipython2",
   "version": "2.7.6"
  }
 },
 "nbformat": 4,
 "nbformat_minor": 5
}
